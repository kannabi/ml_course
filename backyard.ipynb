{
 "cells": [
  {
   "cell_type": "code",
   "execution_count": 10,
   "outputs": [
    {
     "name": "stdout",
     "text": [
      "[array([[4.4101e+04, 1.5000e+00, 7.8000e+00, ..., 7.9400e+01, 8.7300e+01,\n",
      "        9.9600e+01],\n",
      "       [3.9024e+04, 3.0000e+00, 7.7000e+00, ..., 7.9500e+01, 9.2100e+01,\n",
      "        1.0000e+02],\n",
      "       [3.2229e+04, 5.0000e+00, 7.6000e+00, ..., 7.5800e+01, 8.8700e+01,\n",
      "        9.8500e+01],\n",
      "       ...,\n",
      "       [3.2922e+04, 3.0000e-01, 7.4000e+00, ..., 7.7100e+01, 8.8900e+01,\n",
      "        9.9000e+01],\n",
      "       [3.2190e+04, 3.0000e-01, 7.3000e+00, ..., 8.7000e+01, 8.9500e+01,\n",
      "        9.9800e+01],\n",
      "       [3.0488e+04, 2.1000e-01, 7.5000e+00, ..., 8.1700e+01, 8.6400e+01,\n",
      "               nan]])]\n"
     ],
     "output_type": "stream"
    }
   ],
   "source": [
    "import numpy as np\n",
    "import matplotlib.pyplot as plt\n",
    "# from kmeans import cluster_with_kmeans\n",
    "# from normalize import normalize\n",
    "\n",
    "data = np.genfromtxt('water-treatment.data', delimiter=',')[:, 1:]\n",
    "# normed = normalize(data)\n",
    "# print(normed)\n",
    "# for i in range(normed.shape[1]):\n",
    "#     # column = list(filter(lambda x: math.isnan(data[0, 1]), data[:, i]))\n",
    "#     column = normed[:, i]\n",
    "#     plt.title(\"{}\".format(i))\n",
    "#     plt.plot(column)\n",
    "#     plt.show()\n",
    "print(cluster_with_kmeans(data, 3))"
   ],
   "metadata": {
    "collapsed": false,
    "pycharm": {
     "name": "#%%\n",
     "is_executing": false
    }
   }
  },
  {
   "cell_type": "code",
   "execution_count": 11,
   "outputs": [
    {
     "name": "stdout",
     "text": [
      "a\n"
     ],
     "output_type": "stream"
    }
   ],
   "source": [],
   "metadata": {
    "collapsed": false,
    "pycharm": {
     "name": "#%%\n",
     "is_executing": false
    }
   }
  }
 ],
 "metadata": {
  "kernelspec": {
   "name": "python3",
   "language": "python",
   "display_name": "Python 3"
  },
  "language_info": {
   "codemirror_mode": {
    "name": "ipython",
    "version": 2
   },
   "file_extension": ".py",
   "mimetype": "text/x-python",
   "name": "python",
   "nbconvert_exporter": "python",
   "pygments_lexer": "ipython2",
   "version": "2.7.6"
  },
  "pycharm": {
   "stem_cell": {
    "cell_type": "raw",
    "source": [],
    "metadata": {
     "collapsed": false
    }
   }
  }
 },
 "nbformat": 4,
 "nbformat_minor": 0
}