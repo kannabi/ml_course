{
 "cells": [
  {
   "cell_type": "code",
   "execution_count": 2,
   "metadata": {
    "collapsed": true,
    "pycharm": {
     "is_executing": false
    }
   },
   "outputs": [],
   "source": [
    "from numpy import genfromtxt"
   ]
  },
  {
   "cell_type": "code",
   "execution_count": 4,
   "outputs": [
    {
     "name": "stdout",
     "text": [
      "[[       nan        nan        nan ...        nan        nan        nan]\n",
      " [       nan 4.4101e+04 1.5000e+00 ... 7.9400e+01 8.7300e+01 9.9600e+01]\n",
      " [       nan 3.9024e+04 3.0000e+00 ... 7.9500e+01 9.2100e+01 1.0000e+02]\n",
      " ...\n",
      " [       nan 3.2922e+04 3.0000e-01 ... 7.7100e+01 8.8900e+01 9.9000e+01]\n",
      " [       nan 3.2190e+04 3.0000e-01 ... 8.7000e+01 8.9500e+01 9.9800e+01]\n",
      " [       nan 3.0488e+04 2.1000e-01 ... 8.1700e+01 8.6400e+01        nan]]\n"
     ],
     "output_type": "stream"
    }
   ],
   "source": [
    "my_data = genfromtxt('water-treatment.data', delimiter=',')\n",
    "print(my_data)\n"
   ],
   "metadata": {
    "collapsed": false,
    "pycharm": {
     "name": "#%%\n",
     "is_executing": false
    }
   }
  }
 ],
 "metadata": {
  "kernelspec": {
   "name": "python3",
   "language": "python",
   "display_name": "Python 3"
  },
  "language_info": {
   "codemirror_mode": {
    "name": "ipython",
    "version": 2
   },
   "file_extension": ".py",
   "mimetype": "text/x-python",
   "name": "python",
   "nbconvert_exporter": "python",
   "pygments_lexer": "ipython2",
   "version": "2.7.6"
  },
  "pycharm": {
   "stem_cell": {
    "cell_type": "raw",
    "source": [],
    "metadata": {
     "collapsed": false
    }
   }
  }
 },
 "nbformat": 4,
 "nbformat_minor": 0
}